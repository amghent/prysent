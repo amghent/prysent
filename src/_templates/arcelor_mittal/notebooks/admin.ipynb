{
 "cells": [
  {
   "cell_type": "markdown",
   "source": [
    "# Admin Guide\n",
    "\n",
    "This page contains a couple of extra tips and tricks for the administators of the tool."
   ],
   "metadata": {
    "collapsed": false,
    "pycharm": {
     "name": "#%% md\n"
    }
   }
  },
  {
   "cell_type": "markdown",
   "source": [
    "## Commands\n",
    "\n",
    "Via the URLs of Prysent, you can actually execute a couple of commands that are not visible because they are simply not linked in the menu.  And they are not linked in the menu because the users should not execute them.  They were used during development but they remain accessible for an administrator because also for him/her these commands can be useful in case of trouble(shooting).\n",
    "\n",
    "Use these commands straight from the URL by typing them.  After the command is triggered you will go back to the index page and you will see a message.  The actual command is running in a separate thread and thus in the background on the server.  The final results can take a while (for instance when you trigger the update of all scheduled notebooks) and there's **no notification** when the command fully executed."
   ],
   "metadata": {
    "collapsed": false,
    "pycharm": {
     "name": "#%% md\n"
    }
   }
  },
  {
   "cell_type": "markdown",
   "source": [
    "### http(s)://<server>/commands/clean_cache\n",
    "\n",
    "##### Clean the cache\n",
    "\n",
    "This will clean the cache by doing:\n",
    "\n",
    "- Removes all the cached pages from the database: any page that is not scheduled but kept in cache, is removed.  Note that caching for the scheduled pages is not kept in the same table as the caching for the non-scheduled notebooks.\n",
    "- Resets the next run for the scheduled notebooks to 'now': all the scheduled notebooks are in a table and the next rendering of the notebook is kept in a field.  This field is reset to 'now', meaning that the next time the scheduler runs (normally each 5 minutes) or the first time the notebook is viewed by a user, this notebook will be rendered again.\n",
    "- Removes all the .html files in the _html_cache directory.\n",
    "\n",
    "#### Use cases:\n",
    "\n",
    "- When you see some .html files remain in the caching directory.  In this case, also contact the development team to notify them that this is happening as most likely this is a bug.\n",
    "\n",
    "##### Warning: don't do this just because you think it's a good idea.  The cache is cleaned which means that all the notebooks have to be rendered again.\n",
    "\n",
    "\n"
   ],
   "metadata": {
    "collapsed": false,
    "pycharm": {
     "name": "#%% md\n"
    }
   }
  },
  {
   "cell_type": "markdown",
   "source": [
    "### http(s)://<server>/commands/upload_media\n",
    "\n",
    "##### Go through the media directory and check for new files or directories\n",
    "\n",
    "The media directory is the directory where you put your notebooks.  At this moment, this is the \"AM Python - Documenten\"/Jobs/Belgium/Automatic_jobs directory on SharePoint for Ghent.\n",
    "\n",
    "The tool will go through this directory and all of its sub-directories and check if there is any new directory or new file.  If so, it will be added in Prysent and thus update the menu.  Internally, it will flag all the items found already and finally it will delete all the non-flagged items.  This last action deletes any menu items or menu blocks that are no longer needed because the file or directory is no longer there.\n",
    "\n",
    "#### Use cases:\n",
    "\n",
    "- When you want to immediately update the menu because you don't want to wait.\n",
    "- When you want to immediately remove something from the menu because you don't want to wait until the scheduler does it."
   ],
   "metadata": {
    "collapsed": false,
    "pycharm": {
     "name": "#%% md\n"
    }
   }
  },
  {
   "cell_type": "markdown",
   "source": [
    "### http(s)://<server>/commands/upload_schedule\n",
    "\n",
    "##### Go through the media directory, find any yaml file linked to a notebook and update the schedule\n",
    "\n",
    "The tool wil go through this directory and find any .yaml file with the same name as a notebook (.ipynb).  When found it will update the settings when there are changes or insert a new schedule when the notebook was not scheduled before.\n",
    "\n",
    "#### Use cases:\n",
    "\n",
    "- When you can't or don't want to wait for the scheduler to update this.\n"
   ],
   "metadata": {
    "collapsed": false,
    "pycharm": {
     "name": "#%% md\n"
    }
   }
  },
  {
   "cell_type": "markdown",
   "source": [
    "### http(s)://<server>/commands/upload_settings\n",
    "\n",
    "##### Upload the settings as found in \"/src/_commands/management/config/django/default_settings.yaml\"\n",
    "\n",
    "The tool will immediately update the settings as found in the file listed above.\n",
    "\n",
    "#### Use cases:\n",
    "\n",
    "- When you can't or don't want to wait for the scheduler to update this."
   ],
   "metadata": {
    "collapsed": false,
    "pycharm": {
     "name": "#%% md\n"
    }
   }
  },
  {
   "cell_type": "markdown",
   "source": [
    "### http(s)://<server>/commands/update\n",
    "\n",
    "##### Update all the notebooks if they are scheduled\n",
    "\n",
    "The tool will look in the database which notebooks are scheduled and render each one of these notebooks, whether or not they are already up for a new rendering.  It basically forces a new rendering of all the scheduled notebooks.\n",
    "\n",
    "#### Use cases:\n",
    "\n",
    "- You can use this after a \"clean_cache\" to start the rendering of the notebooks immediately.\n",
    "- When you updated a page that is only rendered once a day, like this page.\n",
    "- When the user updated a notebook and wants to see the changes immediately and hence calls for support because he/she forgot the scheduler will update this only later at the moment the notebook is up for a new rendering via the scheduler.\n"
   ],
   "metadata": {
    "collapsed": false,
    "pycharm": {
     "name": "#%% md\n"
    }
   }
  }
 ],
 "metadata": {
  "kernelspec": {
   "display_name": "Python 3",
   "language": "python",
   "name": "python3"
  },
  "language_info": {
   "codemirror_mode": {
    "name": "ipython",
    "version": 2
   },
   "file_extension": ".py",
   "mimetype": "text/x-python",
   "name": "python",
   "nbconvert_exporter": "python",
   "pygments_lexer": "ipython2",
   "version": "2.7.6"
  }
 },
 "nbformat": 4,
 "nbformat_minor": 0
}