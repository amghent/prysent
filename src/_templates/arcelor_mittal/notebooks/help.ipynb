{
 "cells": [
  {
   "cell_type": "markdown",
   "source": [
    "# Prysent Help\n",
    "\n",
    "This page is the user help for Prysent, the tool for presenting Jupyter notebooks in an easy way.\n",
    "\n",
    "![](help1.png)\n"
   ],
   "metadata": {
    "collapsed": false,
    "pycharm": {
     "name": "#%% md\n"
    }
   }
  },
  {
   "cell_type": "markdown",
   "source": [
    "## Introduction\n",
    "\n",
    "Prysent is a tool to easily display Jupyter Notebooks.  The basic philosophy behind the tool is that a data scientist can develop a notebook locally and when it's finished he/she copies the notebook into a directory that is accessible also by the Prysent server.  The scheduler behind Prysent will pick up the new file and automatically configure Prysent to show the notebook in the tool, accessible by a menu entry.\n",
    "\n",
    "When the data scientist has made the notebook available in the described way above, the notebook is visible \"on demand\".  This means that the notebook will be rendered each time the menu is clicked or the notebook is accessed by its URL.  However, in some cases where the data is not changing very often, it may be advisable that the data scientist also schedules the update of the notebook.  In that case, the notebook is rendered behind the scenes and is availalbe immediately from cache as a static html page.  This speeds up the display of the notebook and it avoids unneeded rendering on the server.\n",
    "\n",
    "Prysent also caches the rendered notebook for a certain period, one minute by default, in order to quickly show the data again when the user is switching between several notebooks."
   ],
   "metadata": {
    "collapsed": false,
    "pycharm": {
     "name": "#%% md\n"
    }
   }
  },
  {
   "cell_type": "markdown",
   "source": [
    "## FAQ\n",
    "\n",
    "- Q: Which notebooks will run on Prysent ?\n",
    "- A: Prysent is written in Python (of course) and the conda environment used for Prysent, internally called 'prysent2204', is based on the 'am2204' environment that is distributed using Microsoft's Software Center to all data scientists at Arcelor Mittal Ghent and other sites where this conda environment is available.  The 'am2204' environment was extended with some server side packages.  Hence, all notebooks that run correctly with under the 'am2204' environment, should also render correctly on the Prysent server."
   ],
   "metadata": {
    "collapsed": false,
    "pycharm": {
     "name": "#%% md\n"
    }
   }
  },
  {
   "cell_type": "markdown",
   "source": [
    "\n",
    "- Q: What databases can be accessed ?\n",
    "- A: The user used to run Prysent is a service account that should have access to all the databases available.  Hence, all notebooks should be able to connect to their data.  If not, contact the AM Python team to correct this."
   ],
   "metadata": {
    "collapsed": false,
    "pycharm": {
     "name": "#%% md\n"
    }
   }
  },
  {
   "cell_type": "markdown",
   "source": [
    "- Q: Can I have a dashboard that is private and only visible to my department ?\n",
    "- A: No, not at this moment.  Although a basic security was already built in, the decision was taken that all notebooks rendered in Prysent are publically visible to everybody within Arcelor Mittal who has access to the server on which Prysent is running.  If needed however, some minor development can be undertaken to provide this option again.  The code for private dashboards needs to be reviewed and upgraded to the latest version of the public part."
   ],
   "metadata": {
    "collapsed": false,
    "pycharm": {
     "name": "#%% md\n"
    }
   }
  }
 ],
 "metadata": {
  "kernelspec": {
   "display_name": "Python 3",
   "language": "python",
   "name": "python3"
  },
  "language_info": {
   "codemirror_mode": {
    "name": "ipython",
    "version": 2
   },
   "file_extension": ".py",
   "mimetype": "text/x-python",
   "name": "python",
   "nbconvert_exporter": "python",
   "pygments_lexer": "ipython2",
   "version": "2.7.6"
  }
 },
 "nbformat": 4,
 "nbformat_minor": 0
}