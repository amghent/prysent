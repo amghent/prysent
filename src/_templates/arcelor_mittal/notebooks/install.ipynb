{
 "cells": [
  {
   "cell_type": "markdown",
   "source": [
    "# Installation Guide\n",
    "\n",
    "This page describes the installation procedure as executed at Arcelor Mittal in Ghent (BE).  The installation is based on the following technology:\n",
    "\n",
    "- Windows Server (any version above 2003)\n",
    "- Apache 2.4 for Windows\n",
    "- Python 3.9 (as used in the AM Python 2022.04 'am2204' distribution used within AM Ghent and other sites)\n",
    "- Django\n",
    "- sqlite database (database is just for keeping some local data, not for real data storage)\n",
    "\n",
    "Note that the installation can be done differently for other sites at Arcelor Mittal.  Basically, prysent was tested already on:\n",
    "\n",
    "- OS: Linux and Windows\n",
    "- Databases: sqlite3, Postgres and SQL Server\n",
    "- Webserver: Apache, Nginx, gunicorn\n"
   ],
   "metadata": {
    "collapsed": false,
    "pycharm": {
     "name": "#%% md\n"
    }
   }
  },
  {
   "cell_type": "markdown",
   "source": [
    "## Windows + Apache Installation\n",
    "\n",
    "### Starting Remark\n",
    "\n",
    "Apache, as several other open source projects, is not so Windows minded.  In this case even, there's no official packaging of the httpd server for Windows.  This is done by third party organisations.\n",
    "\n",
    "### Download Apache (httpd server)\n",
    "\n",
    "On the Apache's download page, you can see that they don't package themselves for Windows.  However, they provide links to some (if not all, don't know) partners where you can download a binary version of the httpd server.\n",
    "\n",
    "https://httpd.apache.org/docs/current/platform/windows.html#down\n",
    "\n",
    "I decided to use the \"ApacheHaus\" *(1)* link and downloaded the software from this page:\n",
    "\n",
    "https://www.apachehaus.com/cgi-bin/download.plx#MODULES24VS17\n",
    "\n",
    "The version downloaded was the 64-bit version, which comes in a zip file.\n"
   ],
   "metadata": {
    "collapsed": false,
    "pycharm": {
     "name": "#%% md\n"
    }
   }
  },
  {
   "cell_type": "markdown",
   "source": [
    "### Installing Apache\n",
    "\n",
    "The installation is quite simple.  You just unzip the downloaded file and you copy the sub-directory \"Apache24\" to the c-drive in the root folder.  Hence, Apache can be found under **C:\\Apache24**.\n",
    "\n",
    "To install the Windows service, you can open a command prompt (cmd.exe) and type the following code:\n",
    "\n",
    "````\n",
    "cd c:\\Apache24\\bin\n",
    "httpd -k install\n",
    "````\n",
    "\n",
    "Afterwards, you can start / stop / restart the service via Windows Service Manager\n",
    "\n",
    "**Note: it's very important that you copy the files to c:\\Apache24, the default installation folder on Windows.  If not, you must set a number of things manually to get wsgi working.**"
   ],
   "metadata": {
    "collapsed": false,
    "pycharm": {
     "name": "#%% md\n"
    }
   }
  },
  {
   "cell_type": "markdown",
   "source": [
    "### First Run\n",
    "\n",
    "When Apache starts and Microsoft's Internet Information Services (webserver) is already running, you will get a port conflict on port 80.  Which is the default http port.  In order to test Apache, you can change the default port to 81 via a change in the file: **c:\\Apache24\\conf\\httpd.conf**\n",
    "\n",
    "````\n",
    "#\n",
    "# Listen: Allows you to bind Apache to specific IP addresses and/or\n",
    "# ports, instead of the default. See also the <VirtualHost>\n",
    "# directive.\n",
    "#\n",
    "# Change this to Listen on specific IP addresses as shown below to\n",
    "# prevent Apache from glomming onto all bound IP addresses.\n",
    "#\n",
    "#Listen 12.34.56.78:80\n",
    "\n",
    "Listen 81\n",
    "\n",
    "````\n",
    "\n",
    "Check if Apache is running by connecting your browser to **http://<server>:81** if you changed the port, or **http://<server>** if you did not change the port.  You should see an Apache welcoming screen.\n"
   ],
   "metadata": {
    "collapsed": false,
    "pycharm": {
     "name": "#%% md\n"
    }
   }
  },
  {
   "cell_type": "markdown",
   "source": [
    "(base) c:\\Apache24\\bin>httpd -V\n",
    "Server version: Apache/2.4.54 (Win64)\n",
    "Server built:   Jun 23 2022 16:58:08\n",
    "Distributed by: The Apache Haus\n",
    "Compiled with:  Visual Studio 2022 (VS17)\n",
    "Server's Module Magic Number: 20120211:124\n",
    "Server loaded:  APR 1.7.0, APR-UTIL 1.6.1, PCRE 10.40 2022-04-14\n",
    "Compiled using: APR 1.7.0, APR-UTIL 1.6.1, PCRE 10.40 2022-04-14\n",
    "Architecture:   64-bit\n",
    "Server MPM:     WinNT\n",
    "  threaded:     yes (fixed thread count)\n",
    "    forked:     no\n",
    "Server compiled with....\n",
    " -D APR_HAS_SENDFILE\n",
    " -D APR_HAS_MMAP\n",
    " -D APR_HAVE_IPV6 (IPv4-mapped addresses disabled)\n",
    " -D APR_HAS_OTHER_CHILD\n",
    " -D AP_HAVE_RELIABLE_PIPED_LOGS\n",
    " -D DYNAMIC_MODULE_LIMIT=256\n",
    " -D HTTPD_ROOT=\"/Apache24\"\n",
    " -D HTTPD_EXEC=\"/Apache24/bin/httpd.exe\"\n",
    " -D DEFAULT_PIDLOG=\"logs/httpd.pid\"\n",
    " -D DEFAULT_SCOREBOARD=\"logs/apache_runtime_status\"\n",
    " -D DEFAULT_ERRORLOG=\"logs/error.log\"\n",
    " -D AP_TYPES_CONFIG_FILE=\"conf/mime.types\"\n",
    " -D SERVER_CONFIG_FILE=\"conf/httpd.conf\"\n",
    "\n",
    "* The Apache Haus\n",
    "* is not affiliated with, or endorsed by, the Apache Software Foundation.\n",
    "* Apache HTTP Server, Apache, and the Apache feather logo are trademarks of\n",
    "* The Apache Software Foundation.\n",
    "\n"
   ],
   "metadata": {
    "collapsed": false,
    "pycharm": {
     "name": "#%% md\n"
    }
   }
  },
  {
   "cell_type": "markdown",
   "source": [
    "\n",
    "\n",
    "(base) c:\\Apache24\\bin>httpd -M\n",
    "Loaded Modules:\n",
    " core_module (static)\n",
    " win32_module (static)\n",
    " mpm_winnt_module (static)\n",
    " http_module (static)\n",
    " so_module (static)\n",
    " actions_module (shared)\n",
    " alias_module (shared)\n",
    " allowmethods_module (shared)\n",
    " asis_module (shared)\n",
    " auth_basic_module (shared)\n",
    " authn_core_module (shared)\n",
    " authn_file_module (shared)\n",
    " authz_core_module (shared)\n",
    " authz_groupfile_module (shared)\n",
    " authz_host_module (shared)\n",
    " authz_user_module (shared)\n",
    " autoindex_module (shared)\n",
    " cgi_module (shared)\n",
    " dir_module (shared)\n",
    " env_module (shared)\n",
    " http2_module (shared)\n",
    " include_module (shared)\n",
    " info_module (shared)\n",
    " isapi_module (shared)\n",
    " log_config_module (shared)\n",
    " mime_module (shared)\n",
    " negotiation_module (shared)\n",
    " setenvif_module (shared)\n",
    " socache_shmcb_module (shared)\n",
    " ssl_module (shared)\n",
    " status_module (shared)\n"
   ],
   "metadata": {
    "collapsed": false,
    "pycharm": {
     "name": "#%% md\n"
    }
   }
  },
  {
   "cell_type": "markdown",
   "source": [
    "*(1) choice based on the version provided.  ApacheHaus seems to have the latest version, whereas \"Apache Lounge\" had an older one, dating a few months back.*"
   ],
   "metadata": {
    "collapsed": false,
    "pycharm": {
     "name": "#%% md\n"
    }
   }
  }
 ],
 "metadata": {
  "kernelspec": {
   "display_name": "Python 3",
   "language": "python",
   "name": "python3"
  },
  "language_info": {
   "codemirror_mode": {
    "name": "ipython",
    "version": 2
   },
   "file_extension": ".py",
   "mimetype": "text/x-python",
   "name": "python",
   "nbconvert_exporter": "python",
   "pygments_lexer": "ipython2",
   "version": "2.7.6"
  }
 },
 "nbformat": 4,
 "nbformat_minor": 0
}