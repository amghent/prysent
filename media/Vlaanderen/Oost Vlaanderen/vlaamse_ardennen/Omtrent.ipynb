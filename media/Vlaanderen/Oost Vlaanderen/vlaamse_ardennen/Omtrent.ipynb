{
 "cells": [
  {
   "cell_type": "markdown",
   "source": [
    "# De Vlaamse Ardennen\n",
    "\n",
    "## Wandelen\n",
    "\n",
    "Je kan daar mooie wandelingen maken\n",
    "\n",
    "## Fietsen\n",
    "\n",
    "Het hart van de Ronde van Vlaanderen"
   ],
   "metadata": {
    "collapsed": false,
    "pycharm": {
     "name": "#%% md\n"
    }
   }
  }
 ],
 "metadata": {
  "kernelspec": {
   "display_name": "Python 3",
   "language": "python",
   "name": "python3"
  },
  "language_info": {
   "codemirror_mode": {
    "name": "ipython",
    "version": 2
   },
   "file_extension": ".py",
   "mimetype": "text/x-python",
   "name": "python",
   "nbconvert_exporter": "python",
   "pygments_lexer": "ipython2",
   "version": "2.7.6"
  }
 },
 "nbformat": 4,
 "nbformat_minor": 0
}