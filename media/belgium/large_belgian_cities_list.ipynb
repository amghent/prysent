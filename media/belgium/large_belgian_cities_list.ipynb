{
 "cells": [
  {
   "cell_type": "code",
   "execution_count": 1,
   "metadata": {
    "pycharm": {
     "name": "#%%\n"
    }
   },
   "outputs": [
    {
     "name": "stdout",
     "output_type": "stream",
     "text": [
      "         Name                    Regio  Population\n",
      "4    Brussels  Brussels-Capital Region     1743000\n",
      "1     Antwerp                 Flanders      529247\n",
      "0        Gent                 Flanders      262219\n",
      "2   Charleroi                 Wallonia      201816\n",
      "5       Liège                 Wallonia      196623\n",
      "7      Bruges                 Flanders      118284\n",
      "3  Anderlecht  Brussels-Capital Region      117412\n",
      "8       Namur                 Wallonia      110939\n",
      "6      Leuven                 Flanders      100291\n"
     ]
    }
   ],
   "source": [
    "import pandas as pd\n",
    "\n",
    "pd.set_option('display.max_rows', None)\n",
    "\n",
    "df = pd.read_json(\"http://127.0.0.1:81/_world_api/country/be/population/100000\")\n",
    "df = df.sort_values(by=\"population\")\n",
    "\n",
    "df.drop(['id'], axis=1, inplace=True)\n",
    "df.drop(['lat'], axis=1, inplace=True)\n",
    "df.drop(['name_ascii'], axis=1, inplace=True)\n",
    "df.drop(['lng'], axis=1, inplace=True)\n",
    "df.drop(['country'], axis=1, inplace=True)\n",
    "df.drop(['iso2'], axis=1, inplace=True)\n",
    "df.drop(['iso3'], axis=1, inplace=True)\n",
    "df.drop(['capital'], axis=1, inplace=True)\n",
    "\n",
    "df.rename(columns={'name': 'Name'}, inplace=True)\n",
    "df.rename(columns={'admin_name': 'Regio'}, inplace=True)\n",
    "df.rename(columns={'population': 'Population'}, inplace=True)\n",
    "\n",
    "df = df.sort_values(by='Population', ascending=False, na_position='last')\n",
    "\n",
    "print(df)\n"
   ]
  }
 ],
 "metadata": {
  "interpreter": {
   "hash": "4c655704bd2e01462d23f046b3528cc1fd068ba4a395e4d26dcbb06f48c49e02"
  },
  "kernelspec": {
   "display_name": "Python 3 (ipykernel)",
   "language": "python",
   "name": "python3"
  },
  "language_info": {
   "codemirror_mode": {
    "name": "ipython",
    "version": 3
   },
   "file_extension": ".py",
   "mimetype": "text/x-python",
   "name": "python",
   "nbconvert_exporter": "python",
   "pygments_lexer": "ipython3",
   "version": "3.10.5"
  }
 },
 "nbformat": 4,
 "nbformat_minor": 4
}
